{
 "cells": [
  {
   "cell_type": "code",
   "execution_count": 1,
   "id": "78b135ed-0c79-4507-a6b5-bb9867927456",
   "metadata": {},
   "outputs": [],
   "source": [
    "### SetUp"
   ]
  },
  {
   "cell_type": "code",
   "execution_count": 2,
   "id": "e5275258-4389-4b93-8221-3057ed0d08c7",
   "metadata": {},
   "outputs": [
    {
     "name": "stdout",
     "output_type": "stream",
     "text": [
      "Linux jupyter-jmake-2dgoodbunny-2dfh7gm1q3 5.4.170+ #1 SMP Sat Feb 26 10:02:52 PST 2022 x86_64 x86_64 x86_64 GNU/Linux\n",
      "Tue 17 May 2022 09:07:23 PM UTC\n",
      "/home/jovyan/work\n",
      "8.5.5\n",
      "v17.9.0\n",
      "Python 3.9.12\n"
     ]
    }
   ],
   "source": [
    "%%bash \n",
    "uname -a \n",
    "date\n",
    "pwd\n",
    "\n",
    "npm --version\n",
    "node --version\n",
    "python3 --version"
   ]
  },
  {
   "cell_type": "code",
   "execution_count": 3,
   "id": "ab5b6bdb-bd20-45ca-bd5c-11f84f23577a",
   "metadata": {},
   "outputs": [
    {
     "name": "stdout",
     "output_type": "stream",
     "text": [
      "total 34916\n",
      "drwsrwsr-x 1 jovyan users     4096 May 17 21:06 .\n",
      "drwsrwsr-x 1 jovyan users     4096 May 17 21:02 ..\n",
      "drwxr-xr-x 2 root   root      4096 May 17 21:01 Actions\n",
      "drwxr-sr-x 5 jovyan users     4096 May 17 21:06 BUILD6\n",
      "-rw-r--r-- 1 jovyan users 17831690 May 17 21:06 bundle.js\n",
      "drwxr-xr-x 2 root   root      4096 May 17 21:01 Bunny\n",
      "-rw-r--r-- 1 jovyan users    14341 May 17 21:06 bunny-Copy1.ipynb\n",
      "-rw-r--r-- 1 root   root     14341 May 17 21:01 bunny.ipynb\n",
      "-rw-r--r-- 1 root   root      1147 May 17 21:01 Dockerfile\n",
      "drwxr-xr-x 8 root   root      4096 May 17 21:01 .git\n",
      "-rw-r--r-- 1 jovyan users 17832289 May 17 21:06 index.html\n",
      "drwxr-sr-x 2 jovyan users     4096 May 17 21:06 .ipynb_checkpoints\n",
      "drwxr-xr-x 3 root   root      4096 May 17 21:01 Python\n",
      "drwxr-xr-x 3 root   root      4096 May 17 21:01 ReactJS\n",
      "-rw-r--r-- 1 root   root       111 May 17 21:01 README.md\n",
      "drwxr-xr-x 2 root   root      4096 May 17 21:01 Sneezing\n"
     ]
    }
   ],
   "source": [
    "!ls -la"
   ]
  },
  {
   "cell_type": "code",
   "execution_count": 4,
   "id": "291117a5-c33b-4f82-967f-a65b2aae6843",
   "metadata": {},
   "outputs": [],
   "source": [
    "### "
   ]
  },
  {
   "cell_type": "code",
   "execution_count": 5,
   "id": "47d76ce9-c3fe-4193-9f41-a18025597778",
   "metadata": {},
   "outputs": [
    {
     "name": "stdout",
     "output_type": "stream",
     "text": [
      "env: BUILD=BUILD6\n"
     ]
    }
   ],
   "source": [
    "%env BUILD=BUILD6"
   ]
  },
  {
   "cell_type": "code",
   "execution_count": 6,
   "id": "854a3212-deb0-4756-aed5-885b15058148",
   "metadata": {},
   "outputs": [
    {
     "name": "stdout",
     "output_type": "stream",
     "text": [
      "v17.9.0\n",
      "8.5.5\n",
      "total 28\n",
      "drwxr-sr-x 3 jovyan users 4096 May 17 21:07 .\n",
      "drwsrwsr-x 1 jovyan users 4096 May 17 21:07 ..\n",
      "-rw-r--r-- 1 jovyan users  157 May 17 21:07 dotbabelrc\n",
      "-rw-r--r-- 1 jovyan users  607 May 17 21:07 ipynb.html\n",
      "drwxr-sr-x 2 jovyan users 4096 May 17 21:07 src\n",
      "-rw-r--r-- 1 jovyan users  607 May 17 21:07 template.html\n",
      "-rw-r--r-- 1 jovyan users  482 May 17 21:07 webpack.config.js\n",
      "/home/jovyan/work/BUILD6\n",
      "CPU times: user 14.4 ms, sys: 7.32 ms, total: 21.7 ms\n",
      "Wall time: 1.04 s\n"
     ]
    }
   ],
   "source": [
    "%%time \n",
    "%%bash \n",
    "\n",
    "BUILDING()\n",
    "{\n",
    "  node --version\n",
    "  npm --version\n",
    "\n",
    "  rm -rf $BUILD\n",
    "  mkdir $BUILD\n",
    "  cd $BUILD\n",
    "  cp -r ../ReactJS/* . \n",
    "\n",
    "  ls -la\n",
    "  pwd\n",
    "}\n",
    "\n",
    "BUILDING"
   ]
  },
  {
   "cell_type": "code",
   "execution_count": 7,
   "id": "690f51e5-02f6-42ef-8479-24825d249623",
   "metadata": {},
   "outputs": [],
   "source": [
    "### node_modules package* "
   ]
  },
  {
   "cell_type": "code",
   "execution_count": 8,
   "id": "3925747b-9405-45f3-8e32-a71c902eb426",
   "metadata": {},
   "outputs": [
    {
     "name": "stdout",
     "output_type": "stream",
     "text": [
      "CPU times: user 4.89 ms, sys: 5.46 ms, total: 10.4 ms\n",
      "Wall time: 23.2 s\n"
     ]
    }
   ],
   "source": [
    "%%time \n",
    "%%bash \n",
    "\n",
    "GET_PACKAGEJSON() \n",
    "{ \n",
    "  ## INIT \n",
    "  rm -rf package*\n",
    "  rm -rf node_modules\n",
    "\n",
    "  ## SET UP   \n",
    "  npm init -y\n",
    "\n",
    "  ## REACT \n",
    "  npm install --save-dev react-dom@16.14.0\n",
    "\n",
    "  ## BABYLON\n",
    "  ## import * as BABYLON from 'babylonjs';\n",
    "  npm install --save-dev babylonjs@5.4.0\n",
    "\n",
    "  ## import * as BABYLON from '@babylonjs/core/Legacy/legacy';\n",
    "  npm install --save-dev  @babylonjs/core@5.4.0\n",
    "\n",
    "  ## import SceneComponent from 'babylonjs-hook';\n",
    "  npm install --save-dev babylonjs-hook@0.1.1\n",
    "\n",
    "  ## BABEL \n",
    "  npm install --save-dev babel-loader@8.2.2 @babel/core@7.15.5\n",
    "  npm install --save-dev @babel/plugin-proposal-class-properties@7.14.5\n",
    "  npm install --save-dev @babel/preset-react@7.14.5\n",
    "\n",
    "  ## WEBPACK \n",
    "  npm install --save-dev webpack@5.56.0\n",
    "  npm install --save-dev webpack-cli@4.8.0\n",
    "\n",
    "  npm install --save-dev ci@2.2.0\n",
    "\n",
    "  ls package*\n",
    "}\n",
    "\n",
    "cd $BUILD\n",
    "GET_PACKAGEJSON > /dev/null 2>&1"
   ]
  },
  {
   "cell_type": "code",
   "execution_count": 9,
   "id": "63c9694b-a459-4720-b8b0-527a61e8945c",
   "metadata": {},
   "outputs": [],
   "source": [
    "### fromVTK.js "
   ]
  },
  {
   "cell_type": "code",
   "execution_count": 10,
   "id": "aead8a50-80af-4b17-87ae-caf2043bcbbb",
   "metadata": {},
   "outputs": [
    {
     "name": "stdout",
     "output_type": "stream",
     "text": [
      "fin:'../Bunny/bunny_orig.obj'\n",
      "fout:'src/fromVTK.js'\n",
      "\t[Reader] File:'../Bunny/bunny_orig.obj' ClassName:'vtkPolyData' \n",
      "\t[GetCellsList] Found Types:  ['VTK_TRIANGLE']\n",
      "\tnCoords (36178, 3) nTrias: (69630, 3)\n",
      "CPU times: user 8.79 ms, sys: 5.47 ms, total: 14.3 ms\n",
      "Wall time: 1.67 s\n"
     ]
    }
   ],
   "source": [
    "%%time \n",
    "%%bash \n",
    "\n",
    "GETFROMVTK()\n",
    "{\n",
    "  python ../Python/pvtuPoints2Babylonjs.py \\\n",
    "    --fin=../Bunny/bunny_orig.obj \\\n",
    "    --fout=src/fromVTK.js \n",
    "}\n",
    "\n",
    "cd $BUILD\n",
    "GETFROMVTK"
   ]
  },
  {
   "cell_type": "code",
   "execution_count": 11,
   "id": "2c0e8a23-6f7b-4587-92cf-c982cc239645",
   "metadata": {},
   "outputs": [],
   "source": [
    "### bundle.js"
   ]
  },
  {
   "cell_type": "code",
   "execution_count": 12,
   "id": "efd3ff6b-9488-4bee-b643-ac297cda9d9a",
   "metadata": {},
   "outputs": [
    {
     "name": "stderr",
     "output_type": "stream",
     "text": [
      "[BABEL] Note: The code generator has deoptimised the styling of /home/jovyan/work/BUILD6/src/fromVTK.js as it exceeds the max of 500KB.\n"
     ]
    },
    {
     "name": "stdout",
     "output_type": "stream",
     "text": [
      "asset bundle.js 17 MiB [emitted] (name: main)\n",
      "runtime modules 670 bytes 3 modules\n",
      "modules by path ./node_modules/@babylonjs/core/ 10.1 MiB 1095 modules\n",
      "modules by path ./node_modules/scheduler/ 32.4 KiB 4 modules\n",
      "modules by path ./src/*.js 3.1 MiB 3 modules\n",
      "modules by path ./node_modules/prop-types/ 4.15 KiB 3 modules\n",
      "modules by path ./node_modules/react/ 59.4 KiB\n",
      "  ./node_modules/react/index.js 190 bytes [built] [code generated]\n",
      "  ./node_modules/react/cjs/react.development.js 59.2 KiB [built] [code generated]\n",
      "modules by path ./node_modules/react-dom/ 840 KiB\n",
      "  ./node_modules/react-dom/index.js 1.33 KiB [built] [code generated]\n",
      "  ./node_modules/react-dom/cjs/react-dom.development.js 839 KiB [built] [code generated]\n",
      "./node_modules/babylonjs-hook/dist/babylonjs-hook.es5.js 10.9 KiB [built] [code generated]\n",
      "./node_modules/object-assign/index.js 2.06 KiB [built] [code generated]\n",
      "./node_modules/tslib/tslib.es6.js 12 KiB [built] [code generated]\n",
      "webpack 5.56.0 compiled successfully in 26092 ms\n",
      "CPU times: user 15.5 ms, sys: 10.5 ms, total: 26 ms\n",
      "Wall time: 28 s\n"
     ]
    }
   ],
   "source": [
    "%%time \n",
    "%%bash \n",
    "\n",
    "RUNNER()\n",
    "{\n",
    "  cp dotbabelrc .babelrc\n",
    "  npx webpack --mode development\n",
    "  cp ./dist/bundle.js ..\n",
    "} \n",
    "\n",
    "cd $BUILD\n",
    "RUNNER"
   ]
  },
  {
   "cell_type": "code",
   "execution_count": 13,
   "id": "94a43bae-154a-4a75-b06c-5a604d943c68",
   "metadata": {},
   "outputs": [],
   "source": [
    "### Plot"
   ]
  },
  {
   "cell_type": "code",
   "execution_count": 14,
   "id": "3e44625b-5f97-427b-abdf-2d61c15da9bf",
   "metadata": {},
   "outputs": [
    {
     "data": {
      "text/html": [
       "\n",
       "        <iframe\n",
       "            width=\"600\"\n",
       "            height=\"400\"\n",
       "            src=\"index.html\"\n",
       "            frameborder=\"0\"\n",
       "            allowfullscreen\n",
       "            \n",
       "        ></iframe>\n",
       "        "
      ],
      "text/plain": [
       "<IPython.lib.display.IFrame at 0x7fc680109fd0>"
      ]
     },
     "execution_count": 14,
     "metadata": {},
     "output_type": "execute_result"
    }
   ],
   "source": [
    "template = open(\"ReactJS/ipynb.html\",\"r\").read()\n",
    "fieldsjs = open(\"bundle.js\",\"r\").read()\n",
    "\n",
    "f = open(\"index.html\",\"w\")\n",
    "f.write(template.replace(\"BUNDLEJS\",fieldsjs))\n",
    "f.close()\n",
    "\n",
    "from IPython.display import IFrame\n",
    "IFrame(src='index.html', width=600, height=400)"
   ]
  },
  {
   "cell_type": "raw",
   "id": "b05e0806-4d96-4d29-b7ae-149874c55c8c",
   "metadata": {},
   "source": []
  }
 ],
 "metadata": {
  "kernelspec": {
   "display_name": "Python 3 (ipykernel)",
   "language": "python",
   "name": "python3"
  },
  "language_info": {
   "codemirror_mode": {
    "name": "ipython",
    "version": 3
   },
   "file_extension": ".py",
   "mimetype": "text/x-python",
   "name": "python",
   "nbconvert_exporter": "python",
   "pygments_lexer": "ipython3",
   "version": "3.9.12"
  }
 },
 "nbformat": 4,
 "nbformat_minor": 5
}
