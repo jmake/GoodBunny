{
 "cells": [
  {
   "cell_type": "code",
   "execution_count": 1,
   "id": "78b135ed-0c79-4507-a6b5-bb9867927456",
   "metadata": {
    "execution": {
     "iopub.execute_input": "2022-05-17T19:25:42.908152Z",
     "iopub.status.busy": "2022-05-17T19:25:42.907280Z",
     "iopub.status.idle": "2022-05-17T19:25:42.914152Z",
     "shell.execute_reply": "2022-05-17T19:25:42.912686Z"
    }
   },
   "outputs": [],
   "source": [
    "### SetUp"
   ]
  },
  {
   "cell_type": "code",
   "execution_count": 2,
   "id": "e5275258-4389-4b93-8221-3057ed0d08c7",
   "metadata": {
    "execution": {
     "iopub.execute_input": "2022-05-17T19:25:42.922062Z",
     "iopub.status.busy": "2022-05-17T19:25:42.921270Z",
     "iopub.status.idle": "2022-05-17T19:25:44.593856Z",
     "shell.execute_reply": "2022-05-17T19:25:44.592306Z"
    }
   },
   "outputs": [
    {
     "name": "stdout",
     "output_type": "stream",
     "text": [
      "Linux eaaedfa0e0c9 5.10.47-linuxkit #1 SMP Sat Jul 3 21:51:47 UTC 2021 x86_64 x86_64 x86_64 GNU/Linux\n",
      "Tue 17 May 2022 07:25:42 PM UTC\n",
      "/home/jovyan/work\n",
      "8.5.5\n",
      "v17.9.0\n",
      "Python 3.9.12\n"
     ]
    }
   ],
   "source": [
    "%%bash \n",
    "uname -a \n",
    "date\n",
    "pwd\n",
    "\n",
    "npm --version\n",
    "node --version\n",
    "python3 --version"
   ]
  },
  {
   "cell_type": "code",
   "execution_count": 3,
   "id": "ab5b6bdb-bd20-45ca-bd5c-11f84f23577a",
   "metadata": {
    "execution": {
     "iopub.execute_input": "2022-05-17T19:25:44.599599Z",
     "iopub.status.busy": "2022-05-17T19:25:44.599174Z",
     "iopub.status.idle": "2022-05-17T19:25:45.025700Z",
     "shell.execute_reply": "2022-05-17T19:25:45.023237Z"
    }
   },
   "outputs": [
    {
     "name": "stdout",
     "output_type": "stream",
     "text": [
      "total 34856\r\n",
      "drwxr-xr-x 15 root   root       480 May 17 19:17 .\r\n",
      "drwsrwsr-x  1 jovyan users     4096 May 17 19:23 ..\r\n",
      "drwxr-xr-x  6 root   root       192 May 17 19:19 Actions\r\n",
      "-rw-r--r--  1 root   root       157 May 17 11:46 .babelrc\r\n",
      "drwxr-xr-x 10 root   root       320 May 17 13:56 BUILD\r\n",
      "drwxr-xr-x 11 root   root       352 May 17 18:37 BUILD5\r\n",
      "drwxr-xr-x 12 root   root       384 May 17 19:16 BUILD6\r\n",
      "-rw-r--r--  1 root   root  17831690 May 17 19:16 bundle.js\r\n",
      "drwxr-xr-x  3 root   root        96 May 17 18:35 Bunny\r\n",
      "-rw-r--r--  1 root   root     10692 May 17 19:17 bunny.ipynb\r\n",
      "-rw-r--r--  1 root   root  17832289 May 17 19:16 index.html\r\n",
      "drwxr-xr-x  3 root   root        96 May 17 18:35 .ipynb_checkpoints\r\n",
      "drwxr-xr-x  5 root   root       160 May 17 18:59 Python\r\n",
      "drwxr-xr-x  8 root   root       256 May 17 19:07 ReactJS\r\n",
      "drwxr-xr-x  6 root   root       192 May 17 18:05 Sneezing\r\n"
     ]
    }
   ],
   "source": [
    "!ls -la"
   ]
  },
  {
   "cell_type": "code",
   "execution_count": 4,
   "id": "291117a5-c33b-4f82-967f-a65b2aae6843",
   "metadata": {
    "execution": {
     "iopub.execute_input": "2022-05-17T19:25:45.033590Z",
     "iopub.status.busy": "2022-05-17T19:25:45.032961Z",
     "iopub.status.idle": "2022-05-17T19:25:45.042479Z",
     "shell.execute_reply": "2022-05-17T19:25:45.040689Z"
    }
   },
   "outputs": [],
   "source": [
    "### "
   ]
  },
  {
   "cell_type": "code",
   "execution_count": 5,
   "id": "47d76ce9-c3fe-4193-9f41-a18025597778",
   "metadata": {
    "execution": {
     "iopub.execute_input": "2022-05-17T19:25:45.050590Z",
     "iopub.status.busy": "2022-05-17T19:25:45.049455Z",
     "iopub.status.idle": "2022-05-17T19:25:45.060374Z",
     "shell.execute_reply": "2022-05-17T19:25:45.057459Z"
    }
   },
   "outputs": [
    {
     "name": "stdout",
     "output_type": "stream",
     "text": [
      "env: BUILD=BUILD6\n"
     ]
    }
   ],
   "source": [
    "%env BUILD=BUILD6"
   ]
  },
  {
   "cell_type": "code",
   "execution_count": 6,
   "id": "854a3212-deb0-4756-aed5-885b15058148",
   "metadata": {
    "execution": {
     "iopub.execute_input": "2022-05-17T19:25:45.077625Z",
     "iopub.status.busy": "2022-05-17T19:25:45.074309Z",
     "iopub.status.idle": "2022-05-17T19:26:13.980754Z",
     "shell.execute_reply": "2022-05-17T19:26:13.976842Z"
    }
   },
   "outputs": [
    {
     "name": "stdout",
     "output_type": "stream",
     "text": [
      "v17.9.0\n",
      "8.5.5\n",
      "total 16\n",
      "drwxr-xr-x  7 root root 224 May 17 19:26 .\n",
      "drwxr-xr-x 15 root root 480 May 17 19:26 ..\n",
      "-rw-r--r--  1 root root 157 May 17 19:26 dotbabelrc\n",
      "-rw-r--r--  1 root root 607 May 17 19:26 ipynb.html\n",
      "drwxr-xr-x  4 root root 128 May 17 19:26 src\n",
      "-rw-r--r--  1 root root 607 May 17 19:26 template.html\n",
      "-rw-r--r--  1 root root 482 May 17 19:26 webpack.config.js\n",
      "/home/jovyan/work/BUILD6\n",
      "CPU times: user 17.8 ms, sys: 19.9 ms, total: 37.6 ms\n",
      "Wall time: 28.9 s\n"
     ]
    }
   ],
   "source": [
    "%%time \n",
    "%%bash \n",
    "\n",
    "BUILDING()\n",
    "{\n",
    "  node --version\n",
    "  npm --version\n",
    "\n",
    "  rm -rf $BUILD\n",
    "  mkdir $BUILD\n",
    "  cd $BUILD\n",
    "  cp -r ../ReactJS/* . \n",
    "\n",
    "  ls -la\n",
    "  pwd\n",
    "}\n",
    "\n",
    "BUILDING"
   ]
  },
  {
   "cell_type": "code",
   "execution_count": 7,
   "id": "690f51e5-02f6-42ef-8479-24825d249623",
   "metadata": {
    "execution": {
     "iopub.execute_input": "2022-05-17T19:26:13.988098Z",
     "iopub.status.busy": "2022-05-17T19:26:13.987380Z",
     "iopub.status.idle": "2022-05-17T19:26:13.994987Z",
     "shell.execute_reply": "2022-05-17T19:26:13.993419Z"
    }
   },
   "outputs": [],
   "source": [
    "### node_modules package* "
   ]
  },
  {
   "cell_type": "code",
   "execution_count": 8,
   "id": "3925747b-9405-45f3-8e32-a71c902eb426",
   "metadata": {
    "execution": {
     "iopub.execute_input": "2022-05-17T19:26:14.002672Z",
     "iopub.status.busy": "2022-05-17T19:26:14.000229Z",
     "iopub.status.idle": "2022-05-17T19:28:36.602213Z",
     "shell.execute_reply": "2022-05-17T19:28:36.600813Z"
    }
   },
   "outputs": [
    {
     "name": "stdout",
     "output_type": "stream",
     "text": [
      "CPU times: user 29.4 ms, sys: 32.6 ms, total: 62 ms\n",
      "Wall time: 2min 22s\n"
     ]
    }
   ],
   "source": [
    "%%time \n",
    "%%bash \n",
    "\n",
    "GET_PACKAGEJSON() \n",
    "{ \n",
    "  ## INIT \n",
    "  rm -rf package*\n",
    "  rm -rf node_modules\n",
    "\n",
    "  ## SET UP   \n",
    "  npm init -y\n",
    "\n",
    "  ## REACT \n",
    "  npm install --save-dev react-dom@16.14.0\n",
    "\n",
    "  ## BABYLON\n",
    "  ## import * as BABYLON from 'babylonjs';\n",
    "  npm install --save-dev babylonjs@5.4.0\n",
    "\n",
    "  ## import * as BABYLON from '@babylonjs/core/Legacy/legacy';\n",
    "  npm install --save-dev  @babylonjs/core@5.4.0\n",
    "\n",
    "  ## import SceneComponent from 'babylonjs-hook';\n",
    "  npm install --save-dev babylonjs-hook@0.1.1\n",
    "\n",
    "  ## BABEL \n",
    "  npm install --save-dev babel-loader@8.2.2 @babel/core@7.15.5\n",
    "  npm install --save-dev @babel/plugin-proposal-class-properties@7.14.5\n",
    "  npm install --save-dev @babel/preset-react@7.14.5\n",
    "\n",
    "  ## WEBPACK \n",
    "  npm install --save-dev webpack@5.56.0\n",
    "  npm install --save-dev webpack-cli@4.8.0\n",
    "\n",
    "  npm install --save-dev ci@2.2.0\n",
    "\n",
    "  ls package*\n",
    "}\n",
    "\n",
    "cd $BUILD\n",
    "GET_PACKAGEJSON > /dev/null 2>&1"
   ]
  },
  {
   "cell_type": "code",
   "execution_count": 9,
   "id": "63c9694b-a459-4720-b8b0-527a61e8945c",
   "metadata": {
    "execution": {
     "iopub.execute_input": "2022-05-17T19:28:36.608079Z",
     "iopub.status.busy": "2022-05-17T19:28:36.607619Z",
     "iopub.status.idle": "2022-05-17T19:28:36.613243Z",
     "shell.execute_reply": "2022-05-17T19:28:36.612140Z"
    }
   },
   "outputs": [],
   "source": [
    "### fromVTK.js "
   ]
  },
  {
   "cell_type": "code",
   "execution_count": 10,
   "id": "aead8a50-80af-4b17-87ae-caf2043bcbbb",
   "metadata": {
    "execution": {
     "iopub.execute_input": "2022-05-17T19:28:36.618738Z",
     "iopub.status.busy": "2022-05-17T19:28:36.618088Z",
     "iopub.status.idle": "2022-05-17T19:28:39.355228Z",
     "shell.execute_reply": "2022-05-17T19:28:39.353890Z"
    }
   },
   "outputs": [
    {
     "name": "stdout",
     "output_type": "stream",
     "text": [
      "fin:'../Bunny/bunny_orig.obj'\n",
      "fout:'src/fromVTK.js'\n",
      "\t[Reader] File:'../Bunny/bunny_orig.obj' ClassName:'vtkPolyData' \n",
      "\t[GetCellsList] Found Types:  ['VTK_TRIANGLE']\n",
      "\tnCoords (36178, 3) nTrias: (69630, 3)\n",
      "CPU times: user 5.82 ms, sys: 7.45 ms, total: 13.3 ms\n",
      "Wall time: 2.73 s\n"
     ]
    }
   ],
   "source": [
    "%%time \n",
    "%%bash \n",
    "\n",
    "GETFROMVTK()\n",
    "{\n",
    "  python ../Python/pvtuPoints2Babylonjs.py \\\n",
    "    --fin=../Bunny/bunny_orig.obj \\\n",
    "    --fout=src/fromVTK.js \n",
    "}\n",
    "\n",
    "cd $BUILD\n",
    "GETFROMVTK"
   ]
  },
  {
   "cell_type": "code",
   "execution_count": 11,
   "id": "2c0e8a23-6f7b-4587-92cf-c982cc239645",
   "metadata": {
    "execution": {
     "iopub.execute_input": "2022-05-17T19:28:39.361114Z",
     "iopub.status.busy": "2022-05-17T19:28:39.360591Z",
     "iopub.status.idle": "2022-05-17T19:28:39.366338Z",
     "shell.execute_reply": "2022-05-17T19:28:39.364888Z"
    }
   },
   "outputs": [],
   "source": [
    "### bundle.js"
   ]
  },
  {
   "cell_type": "code",
   "execution_count": 12,
   "id": "efd3ff6b-9488-4bee-b643-ac297cda9d9a",
   "metadata": {
    "execution": {
     "iopub.execute_input": "2022-05-17T19:28:39.372006Z",
     "iopub.status.busy": "2022-05-17T19:28:39.371496Z",
     "iopub.status.idle": "2022-05-17T19:29:17.846826Z",
     "shell.execute_reply": "2022-05-17T19:29:17.844895Z"
    }
   },
   "outputs": [
    {
     "name": "stderr",
     "output_type": "stream",
     "text": [
      "[BABEL] Note: The code generator has deoptimised the styling of /home/jovyan/work/BUILD6/src/fromVTK.js as it exceeds the max of 500KB.\n"
     ]
    },
    {
     "name": "stdout",
     "output_type": "stream",
     "text": [
      "asset bundle.js 17 MiB [emitted] (name: main)\n",
      "runtime modules 670 bytes 3 modules\n",
      "modules by path ./node_modules/@babylonjs/core/ 10.1 MiB 1095 modules\n",
      "modules by path ./node_modules/scheduler/ 32.4 KiB 4 modules\n",
      "modules by path ./src/*.js 3.1 MiB 3 modules\n",
      "modules by path ./node_modules/prop-types/ 4.15 KiB 3 modules\n",
      "modules by path ./node_modules/react/ 59.4 KiB\n",
      "  ./node_modules/react/index.js 190 bytes [built] [code generated]\n",
      "  ./node_modules/react/cjs/react.development.js 59.2 KiB [built] [code generated]\n",
      "modules by path ./node_modules/react-dom/ 840 KiB\n",
      "  ./node_modules/react-dom/index.js 1.33 KiB [built] [code generated]\n",
      "  ./node_modules/react-dom/cjs/react-dom.development.js 839 KiB [built] [code generated]\n",
      "./node_modules/babylonjs-hook/dist/babylonjs-hook.es5.js 10.9 KiB [built] [code generated]\n",
      "./node_modules/object-assign/index.js 2.06 KiB [built] [code generated]\n",
      "./node_modules/tslib/tslib.es6.js 12 KiB [built] [code generated]\n",
      "webpack 5.56.0 compiled successfully in 29384 ms\n",
      "CPU times: user 28.3 ms, sys: 23.3 ms, total: 51.7 ms\n",
      "Wall time: 38.5 s\n"
     ]
    }
   ],
   "source": [
    "%%time \n",
    "%%bash \n",
    "\n",
    "RUNNER()\n",
    "{\n",
    "  cp dotbabelrc .babelrc\n",
    "  npx webpack --mode development\n",
    "  cp ./dist/bundle.js ..\n",
    "} \n",
    "\n",
    "cd $BUILD\n",
    "RUNNER"
   ]
  },
  {
   "cell_type": "code",
   "execution_count": 13,
   "id": "94a43bae-154a-4a75-b06c-5a604d943c68",
   "metadata": {
    "execution": {
     "iopub.execute_input": "2022-05-17T19:29:17.858273Z",
     "iopub.status.busy": "2022-05-17T19:29:17.856890Z",
     "iopub.status.idle": "2022-05-17T19:29:17.864429Z",
     "shell.execute_reply": "2022-05-17T19:29:17.862532Z"
    }
   },
   "outputs": [],
   "source": [
    "### Plot"
   ]
  },
  {
   "cell_type": "code",
   "execution_count": 14,
   "id": "3e44625b-5f97-427b-abdf-2d61c15da9bf",
   "metadata": {
    "execution": {
     "iopub.execute_input": "2022-05-17T19:29:17.870381Z",
     "iopub.status.busy": "2022-05-17T19:29:17.869912Z",
     "iopub.status.idle": "2022-05-17T19:29:18.686487Z",
     "shell.execute_reply": "2022-05-17T19:29:18.685518Z"
    }
   },
   "outputs": [
    {
     "data": {
      "text/html": [
       "\n",
       "        <iframe\n",
       "            width=\"600\"\n",
       "            height=\"400\"\n",
       "            src=\"index.html\"\n",
       "            frameborder=\"0\"\n",
       "            allowfullscreen\n",
       "            \n",
       "        ></iframe>\n",
       "        "
      ],
      "text/plain": [
       "<IPython.lib.display.IFrame at 0x7f03586bca90>"
      ]
     },
     "execution_count": 14,
     "metadata": {},
     "output_type": "execute_result"
    }
   ],
   "source": [
    "template = open(\"ReactJS/ipynb.html\",\"r\").read()\n",
    "fieldsjs = open(\"bundle.js\",\"r\").read()\n",
    "\n",
    "f = open(\"index.html\",\"w\")\n",
    "f.write(template.replace(\"BUNDLEJS\",fieldsjs))\n",
    "f.close()\n",
    "\n",
    "from IPython.display import IFrame\n",
    "IFrame(src='index.html', width=600, height=400)"
   ]
  },
  {
   "cell_type": "raw",
   "id": "b05e0806-4d96-4d29-b7ae-149874c55c8c",
   "metadata": {},
   "source": []
  }
 ],
 "metadata": {
  "kernelspec": {
   "display_name": "Python 3 (ipykernel)",
   "language": "python",
   "name": "python3"
  },
  "language_info": {
   "codemirror_mode": {
    "name": "ipython",
    "version": 3
   },
   "file_extension": ".py",
   "mimetype": "text/x-python",
   "name": "python",
   "nbconvert_exporter": "python",
   "pygments_lexer": "ipython3",
   "version": "3.9.12"
  }
 },
 "nbformat": 4,
 "nbformat_minor": 5
}
